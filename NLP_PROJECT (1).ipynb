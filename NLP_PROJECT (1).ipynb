{
  "cells": [
    {
      "cell_type": "markdown",
      "source": [
        "# **DATA PREPROCESSING**"
      ],
      "metadata": {
        "id": "_IdtFKAd9N-p"
      }
    },
    {
      "cell_type": "code",
      "source": [
        "import pandas as pd\n",
        "import torch\n",
        "from torch.utils.data import Dataset, DataLoader, random_split\n",
        "from transformers import BertTokenizer, BertForSequenceClassification, AdamW\n",
        "from transformers import GPT2Tokenizer, GPT2LMHeadModel\n",
        "from torch.optim import Adam # Import Adam from torch.optim\n",
        "import torch.nn.functional as F\n",
        "from transformers import (\n",
        "    DistilBertTokenizer,\n",
        "    DistilBertForSequenceClassification,\n",
        "    GPT2Tokenizer,\n",
        "    GPT2LMHeadModel,\n",
        "    AdamW,\n",
        "    get_scheduler,\n",
        ")\n",
        "# SECTION 1: Load and Process Datasets\n",
        "class DreadditDataset(Dataset):\n",
        "    def __init__(self, filepath, tokenizer, max_length=128):\n",
        "        # Load dataset\n",
        "        self.data = pd.read_csv('/content/dreaddit-train.csv', encoding='latin-1')\n",
        "        self.tokenizer = tokenizer\n",
        "        self.max_length = max_length\n",
        "\n",
        "    def __len__(self):\n",
        "        return len(self.data)\n",
        "\n",
        "    def __getitem__(self, idx):\n",
        "        text = self.data.iloc[idx][\"text\"]\n",
        "        label = self.data.iloc[idx][\"label\"]\n",
        "\n",
        "        # Tokenize text\n",
        "        encodings = self.tokenizer(\n",
        "            text, truncation=True, padding=\"max_length\", max_length=self.max_length, return_tensors=\"pt\"\n",
        "        )\n",
        "\n",
        "        return {\n",
        "            \"input_ids\": encodings[\"input_ids\"].squeeze(),\n",
        "            \"attention_mask\": encodings[\"attention_mask\"].squeeze(),\n",
        "            \"label\": torch.tensor(label, dtype=torch.long),\n",
        "        }\n",
        "\n",
        "\n",
        "class CounselChatDataset(Dataset):\n",
        "    def __init__(self, filepath, tokenizer, max_length=128):\n",
        "        # Load dataset\n",
        "        self.data = pd.read_csv('/content/counselchat-data.csv', encoding='latin-1')\n",
        "        self.tokenizer = tokenizer\n",
        "        self.max_length = max_length\n",
        "\n",
        "        # Get the actual column names for question and answer\n",
        "        self.question_col = self.data.columns[self.data.columns.str.contains('question', case=False)][0] # Assuming column name contains 'question'\n",
        "        self.answer_col = self.data.columns[self.data.columns.str.contains('answer', case=False)][0]    # Assuming column name contains 'answer'\n",
        "\n",
        "\n",
        "    def __len__(self):\n",
        "        return len(self.data)\n",
        "\n",
        "    def __getitem__(self, idx):\n",
        "        # Access using the identified column names\n",
        "        question = self.data.iloc[idx][self.question_col]\n",
        "        answer = self.data.iloc[idx][self.answer_col]\n",
        "        # Tokenize question and answer\n",
        "        question_enc = self.tokenizer(\n",
        "            question, truncation=True, padding=\"max_length\", max_length=self.max_length, return_tensors=\"pt\"\n",
        "        )\n",
        "        answer_enc = self.tokenizer(\n",
        "            answer, truncation=True, padding=\"max_length\", max_length=self.max_length, return_tensors=\"pt\"\n",
        "        )\n",
        "\n",
        "        return {\n",
        "            \"input_ids\": question_enc[\"input_ids\"].squeeze(),\n",
        "            \"attention_mask\": question_enc[\"attention_mask\"].squeeze(),\n",
        "            \"labels\": answer_enc[\"input_ids\"].squeeze(),\n",
        "        }\n",
        "\n",
        "\n"
      ],
      "metadata": {
        "id": "izUyNb89X0ev"
      },
      "execution_count": null,
      "outputs": []
    },
    {
      "cell_type": "markdown",
      "source": [
        "# **EMOTION DETCETION**"
      ],
      "metadata": {
        "id": "GeERMeKl9gMU"
      }
    },
    {
      "cell_type": "code",
      "source": [
        "from tqdm import tqdm\n",
        "import torch.nn as nn\n",
        "from torch.optim import AdamW\n",
        "\n",
        "def train_emotion_detection_model(train_dataloader, model, optimizer, epochs=1, device=\"cuda\"):\n",
        "    model.to(device)\n",
        "    model.train()\n",
        "\n",
        "    # Loss function\n",
        "    criterion = nn.CrossEntropyLoss()  # Ensure your labels are in the correct format\n",
        "\n",
        "    print(\"Starting training...\")\n",
        "\n",
        "    for epoch in range(epochs):\n",
        "        total_loss = 0\n",
        "        batch_losses = []\n",
        "\n",
        "        print(f\"\\nEpoch {epoch + 1}/{epochs}\")\n",
        "        progress_bar = tqdm(enumerate(train_dataloader), total=len(train_dataloader), desc=\"Training\")\n",
        "\n",
        "        for step, batch in progress_bar:\n",
        "            # Move data to the device\n",
        "            input_ids = batch[\"input_ids\"].to(device)\n",
        "            attention_mask = batch[\"attention_mask\"].to(device)\n",
        "            labels = batch[\"label\"].to(device)\n",
        "\n",
        "            # Zero gradients\n",
        "            optimizer.zero_grad()\n",
        "\n",
        "            # Forward pass\n",
        "            outputs = model(input_ids, attention_mask=attention_mask, labels=labels)\n",
        "            loss = outputs.loss  # Directly using model's computed loss\n",
        "\n",
        "            # Backward pass\n",
        "            loss.backward()\n",
        "\n",
        "            # Gradient clipping\n",
        "            torch.nn.utils.clip_grad_norm_(model.parameters(), max_norm=1.0)\n",
        "\n",
        "            # Optimizer step\n",
        "            optimizer.step()\n",
        "\n",
        "            # Update total and batch losses\n",
        "            total_loss += loss.item()\n",
        "            batch_losses.append(loss.item())\n",
        "\n",
        "            # Print batch loss every few steps\n",
        "            if step % 10 == 0 or step == len(train_dataloader) - 1:\n",
        "                progress_bar.set_postfix({\"Batch Loss\": loss.item()})\n",
        "\n",
        "        # Average loss for the epoch\n",
        "        avg_loss = total_loss / len(train_dataloader)\n",
        "        print(f\"Epoch {epoch + 1} Summary: Avg Loss = {avg_loss:.4f}\")\n",
        "\n",
        "print(\"Training complete.\")\n"
      ],
      "metadata": {
        "id": "8oJbaubkX0hb",
        "colab": {
          "base_uri": "https://localhost:8080/"
        },
        "outputId": "114c18aa-e856-4d88-a4f8-c5e6bc8c21d2"
      },
      "execution_count": null,
      "outputs": [
        {
          "output_type": "stream",
          "name": "stdout",
          "text": [
            "Training complete.\n"
          ]
        }
      ]
    },
    {
      "cell_type": "markdown",
      "source": [
        "# GPT-2 TRAINING"
      ],
      "metadata": {
        "id": "JrClhGTU9mVM"
      }
    },
    {
      "cell_type": "code",
      "source": [
        "from tqdm import tqdm\n",
        "import torch.nn as nn\n",
        "from transformers import DataCollatorForLanguageModeling, GPT2Tokenizer\n",
        "from torch.utils.data import random_split # Import for creating a subset\n",
        "\n",
        "# Initialize the GPT-2 tokenizer\n",
        "gpt_tokenizer = GPT2Tokenizer.from_pretrained(\"gpt2\")  # Or any other GPT-2 variant\n",
        "\n",
        "data_collator = DataCollatorForLanguageModeling(\n",
        "    tokenizer=gpt_tokenizer, mlm=False\n",
        ")\n",
        "\n",
        "# Create the CounselChatDataset instance\n",
        "counselchat_dataset = CounselChatDataset(filepath='your_filepath', tokenizer=gpt_tokenizer) # Assuming 'your_filepath' is the path to your data\n",
        "\n",
        "# Split the dataset into train and validation (or test) subsets\n",
        "counselchat_subset, _ = random_split(counselchat_dataset, [int(len(counselchat_dataset) * 0.8), len(counselchat_dataset) - int(len(counselchat_dataset) * 0.8)]) # Adjust split ratio as needed\n",
        "\n",
        "counselchat_dataloader = DataLoader(counselchat_subset, batch_size=16, shuffle=True, collate_fn=data_collator)\n",
        "\n",
        "\n",
        "def train_dialogue_generation_model(train_dataloader, model, optimizer, epochs=2, device=\"cuda\"):\n",
        "    model.to(device)\n",
        "    model.train()\n",
        "\n",
        "    print(\"Starting GPT-2 Training...\")\n",
        "\n",
        "    for epoch in range(epochs):\n",
        "        total_loss = 0\n",
        "        batch_losses = []\n",
        "\n",
        "        print(f\"\\nEpoch {epoch + 1}/{epochs}\")\n",
        "        progress_bar = tqdm(enumerate(train_dataloader), total=len(train_dataloader), desc=\"Training\")\n",
        "\n",
        "        for step, batch in progress_bar:\n",
        "            # Move batch to the device\n",
        "            input_ids = batch[\"input_ids\"].to(device)\n",
        "            attention_mask = batch[\"attention_mask\"].to(device)\n",
        "            labels = batch[\"labels\"].to(device)\n",
        "\n",
        "            # Zero gradients\n",
        "            optimizer.zero_grad()\n",
        "\n",
        "            # Forward pass\n",
        "            outputs = model(input_ids=input_ids, attention_mask=attention_mask, labels=labels)\n",
        "            loss = outputs.loss\n",
        "\n",
        "            # Backward pass\n",
        "            loss.backward()\n",
        "\n",
        "            # Gradient clipping\n",
        "            torch.nn.utils.clip_grad_norm_(model.parameters(), max_norm=1.0)\n",
        "\n",
        "            # Optimizer step\n",
        "            optimizer.step()\n",
        "\n",
        "            # Update total and batch losses\n",
        "            total_loss += loss.item()\n",
        "            batch_losses.append(loss.item())\n",
        "\n",
        "            # Update progress bar\n",
        "            if step % 10 == 0 or step == len(train_dataloader) - 1:\n",
        "                progress_bar.set_postfix({\"Batch Loss\": loss.item()})\n",
        "\n",
        "        # Average loss for the epoch\n",
        "        avg_loss = total_loss / len(train_dataloader)\n",
        "        print(f\"Epoch {epoch + 1} Summary: Avg Loss = {avg_loss:.4f}\")\n",
        "\n",
        "    print(\"GPT-2 Training complete.\")"
      ],
      "metadata": {
        "id": "06Plnch8X0kp"
      },
      "execution_count": null,
      "outputs": []
    },
    {
      "cell_type": "markdown",
      "source": [
        "#  **FINE TUNING OF THE MODEL**"
      ],
      "metadata": {
        "id": "NV92DjgW8b_k"
      }
    },
    {
      "cell_type": "code",
      "source": [
        "from transformers import DistilBertForSequenceClassification, AdamW # Importing necessary classes\n",
        "\n",
        "\n",
        "bert_model = DistilBertForSequenceClassification.from_pretrained(\"distilbert-base-uncased\", num_labels=2)  # Assuming 2 labels for distress detection\n",
        "gpt_model = GPT2LMHeadModel.from_pretrained(\"gpt2\")\n",
        "bert_optimizer = AdamW(bert_model.parameters(), lr=5e-5)\n",
        "gpt_optimizer = AdamW(gpt_model.parameters(), lr=5e-5)\n",
        "\n",
        "# Fine-tuning: Unfreeze the last two layers of DistilBERT\n",
        "for param in bert_model.distilbert.transformer.layer[-2:].parameters():\n",
        "    param.requires_grad = True\n",
        "\n",
        "from sklearn.metrics import accuracy_score\n",
        "def chatbot_pipeline(user_input, bert_model, bert_tokenizer, gpt_model, gpt_tokenizer, device=\"cuda\"):\n",
        "\n",
        "    # Move models to the appropriate device\n",
        "    bert_model.to(device)\n",
        "    gpt_model.to(device)\n",
        "\n",
        "    # Emotion Detection\n",
        "    tokens = bert_tokenizer(\n",
        "        user_input,\n",
        "        return_tensors=\"pt\",\n",
        "        truncation=True,\n",
        "        padding=\"max_length\",\n",
        "        max_length=128\n",
        "    ).to(device)\n",
        "\n",
        "    with torch.no_grad():\n",
        "        output = bert_model(**tokens)\n",
        "        distress_detected = torch.argmax(output.logits, dim=1).item() == 1\n",
        "\n",
        "    # Response Generation\n",
        "    if distress_detected:\n",
        "        print(\"Emotion detected: Distress\")\n",
        "\n",
        "        gpt_tokens = gpt_tokenizer(\n",
        "            user_input,\n",
        "            return_tensors=\"pt\",\n",
        "            truncation=True,\n",
        "            padding=\"max_length\",\n",
        "            max_length=128\n",
        "        ).to(device)\n",
        "\n",
        "        with torch.no_grad():\n",
        "            response_ids = gpt_model.generate(\n",
        "                input_ids=gpt_tokens[\"input_ids\"],\n",
        "                attention_mask=gpt_tokens[\"attention_mask\"],\n",
        "                max_new_tokens=50,\n",
        "                temperature=0.7,  # Adjust for more coherent responses\n",
        "                top_k=50,        # Limit to top-k tokens for diversity\n",
        "                top_p=0.9        # Nucleus sampling\n",
        "            )\n",
        "        response = gpt_tokenizer.decode(response_ids[0], skip_special_tokens=True)\n",
        "    else:\n",
        "        print(\"Emotion detected: No Distress\")\n",
        "        response = \"I'm here to help! Can you tell me more about what's on your mind?\"\n",
        "\n",
        "    return response\n"
      ],
      "metadata": {
        "id": "aZhmc_aTX0nd",
        "colab": {
          "base_uri": "https://localhost:8080/",
          "height": 174,
          "referenced_widgets": [
            "79c6be94ffea4f119922b342c3ef6506",
            "cc8887b80c5e4b35b2275d02e433c801",
            "8fb45bc462764e2b8487922938fc8f27",
            "9f9632604a55494192d0a623ceedf541",
            "f3777f0aa2ac418495855cd6c3b59cbf",
            "c163c5c3b1134ff7b91516ff74c5bb3e",
            "be2778a8f06f46f3a43a7b88d3e8d231",
            "2416df0358dd4151882f126f32977ac2",
            "73220aedc9ff4d8989425aad2d19f796",
            "c2187a7f125e407fba4fb298302ce909",
            "b3ccf72257434bbaaa6b607b21d56850",
            "a530bf4103d54cf48cfc4c3b52a3a359",
            "2970dfa0953e419abf178232e74bf8f6",
            "ee155c11e34e448989974196bef9a91e",
            "9c7174abd98a429e941cd9e229bcc494",
            "9b07f373900b4b0db03d405ff729b94a",
            "f66fe662f61b49b0a2e6a4d87877e1eb",
            "92cc63daa8b546c8b46e4fcaa5b1cced",
            "4220edfef48b4ba9a667489839ce7999",
            "d46336209d3f497eb157d632c991b9d3",
            "169f29e530c64ebb90e8ff859ad5ae6b",
            "85cf16ea7fc64b179c307c4ca83f7ea9"
          ]
        },
        "outputId": "223ed7e2-6d6b-48ca-d45c-4946023e5a7f"
      },
      "execution_count": null,
      "outputs": [
        {
          "output_type": "stream",
          "name": "stderr",
          "text": [
            "Some weights of DistilBertForSequenceClassification were not initialized from the model checkpoint at distilbert-base-uncased and are newly initialized: ['classifier.bias', 'classifier.weight', 'pre_classifier.bias', 'pre_classifier.weight']\n",
            "You should probably TRAIN this model on a down-stream task to be able to use it for predictions and inference.\n"
          ]
        },
        {
          "output_type": "display_data",
          "data": {
            "text/plain": [
              "model.safetensors:   0%|          | 0.00/548M [00:00<?, ?B/s]"
            ],
            "application/vnd.jupyter.widget-view+json": {
              "version_major": 2,
              "version_minor": 0,
              "model_id": "79c6be94ffea4f119922b342c3ef6506"
            }
          },
          "metadata": {}
        },
        {
          "output_type": "display_data",
          "data": {
            "text/plain": [
              "generation_config.json:   0%|          | 0.00/124 [00:00<?, ?B/s]"
            ],
            "application/vnd.jupyter.widget-view+json": {
              "version_major": 2,
              "version_minor": 0,
              "model_id": "a530bf4103d54cf48cfc4c3b52a3a359"
            }
          },
          "metadata": {}
        },
        {
          "output_type": "stream",
          "name": "stderr",
          "text": [
            "/usr/local/lib/python3.10/dist-packages/transformers/optimization.py:591: FutureWarning: This implementation of AdamW is deprecated and will be removed in a future version. Use the PyTorch implementation torch.optim.AdamW instead, or set `no_deprecation_warning=True` to disable this warning\n",
            "  warnings.warn(\n"
          ]
        }
      ]
    },
    {
      "cell_type": "markdown",
      "source": [
        "# **Model Trainer**"
      ],
      "metadata": {
        "id": "pRb3gQak-lL2"
      }
    },
    {
      "cell_type": "code",
      "source": [
        "def main():\n",
        "    device = \"cuda\" if torch.cuda.is_available() else \"cpu\"\n",
        "    print(f\"Using device: {device}\")\n",
        "\n",
        "    # Load Emotion Detection Dataset\n",
        "    bert_tokenizer = DistilBertTokenizer.from_pretrained(\"distilbert-base-uncased\")\n",
        "    dreaddit_dataset = DreadditDataset(filepath=\"/content/dreaddit-train.csv\", tokenizer=bert_tokenizer, max_length=128)\n",
        "    train_size = int(0.8 * len(dreaddit_dataset))\n",
        "    dreaddit_train, dreaddit_val = random_split(dreaddit_dataset, [train_size, len(dreaddit_dataset) - train_size])\n",
        "    dreaddit_dataloader = DataLoader(dreaddit_train, batch_size=16, shuffle=True)\n",
        "\n",
        "    # Train Emotion Detection Model\n",
        "    bert_model = DistilBertForSequenceClassification.from_pretrained(\"distilbert-base-uncased\", num_labels=2)\n",
        "    bert_model.to(device)\n",
        "    for param in bert_model.distilbert.transformer.layer[-2:].parameters():\n",
        "        param.requires_grad = True\n",
        "\n",
        "    bert_optimizer = AdamW(bert_model.parameters(), lr=5e-5)\n",
        "    train_emotion_detection_model(dreaddit_dataloader, bert_model, bert_optimizer, epochs=3, device=device)\n",
        "\n",
        "    # Load Dialogue Generation Dataset\n",
        "    gpt_tokenizer = GPT2Tokenizer.from_pretrained(\"gpt2\")\n",
        "    gpt_tokenizer.pad_token = gpt_tokenizer.eos_token\n",
        "    counselchat_dataset = CounselChatDataset(filepath=\"/content/counselchat-data.csv\", tokenizer=gpt_tokenizer, max_length=128)\n",
        "    train_size = int(0.8 * len(counselchat_dataset))\n",
        "    counselchat_train, _ = random_split(counselchat_dataset, [train_size, len(counselchat_dataset) - train_size])\n",
        "    counselchat_dataloader = DataLoader(counselchat_train, batch_size=16, shuffle=True)\n",
        "\n",
        "    # Train Dialogue Generation Model\n",
        "    gpt_model = GPT2LMHeadModel.from_pretrained(\"gpt2\")\n",
        "    gpt_model.to(device)\n",
        "    for i, layer in enumerate(gpt_model.transformer.h):\n",
        "        if i < len(gpt_model.transformer.h) - 2:\n",
        "            for param in layer.parameters():\n",
        "                param.requires_grad = False\n",
        "\n",
        "    gpt_optimizer = AdamW(gpt_model.parameters(), lr=5e-5)\n",
        "    train_dialogue_generation_model(counselchat_dataloader, gpt_model, gpt_optimizer, epochs=5, device=device)\n",
        "\n",
        "    # Inference Example\n",
        "    user_input = \"I feel anxious about my workload.\"\n",
        "    response = chatbot_pipeline(user_input, bert_model, bert_tokenizer, gpt_model, gpt_tokenizer, device=device)\n",
        "    print(f\"\\nChatbot Response: {response}\")\n",
        "\n",
        "\n",
        "if __name__ == \"__main__\":\n",
        "    main()\n"
      ],
      "metadata": {
        "id": "golvtg2bX0qx",
        "outputId": "dfd4db9f-42b8-49af-cf75-79d12b9159f0",
        "colab": {
          "base_uri": "https://localhost:8080/"
        }
      },
      "execution_count": null,
      "outputs": [
        {
          "output_type": "stream",
          "name": "stdout",
          "text": [
            "Using device: cpu\n"
          ]
        },
        {
          "output_type": "stream",
          "name": "stderr",
          "text": [
            "Some weights of DistilBertForSequenceClassification were not initialized from the model checkpoint at distilbert-base-uncased and are newly initialized: ['classifier.bias', 'classifier.weight', 'pre_classifier.bias', 'pre_classifier.weight']\n",
            "You should probably TRAIN this model on a down-stream task to be able to use it for predictions and inference.\n",
            "/usr/local/lib/python3.10/dist-packages/transformers/optimization.py:591: FutureWarning: This implementation of AdamW is deprecated and will be removed in a future version. Use the PyTorch implementation torch.optim.AdamW instead, or set `no_deprecation_warning=True` to disable this warning\n",
            "  warnings.warn(\n"
          ]
        },
        {
          "output_type": "stream",
          "name": "stdout",
          "text": [
            "Starting training...\n",
            "\n",
            "Epoch 1/3\n"
          ]
        },
        {
          "output_type": "stream",
          "name": "stderr",
          "text": [
            "Training: 100%|██████████| 142/142 [22:49<00:00,  9.64s/it, Batch Loss=0.364]\n"
          ]
        },
        {
          "output_type": "stream",
          "name": "stdout",
          "text": [
            "Epoch 1 Summary: Avg Loss = 0.5007\n",
            "\n",
            "Epoch 2/3\n"
          ]
        },
        {
          "output_type": "stream",
          "name": "stderr",
          "text": [
            "Training: 100%|██████████| 142/142 [22:48<00:00,  9.64s/it, Batch Loss=0.441]\n"
          ]
        },
        {
          "output_type": "stream",
          "name": "stdout",
          "text": [
            "Epoch 2 Summary: Avg Loss = 0.3360\n",
            "\n",
            "Epoch 3/3\n"
          ]
        },
        {
          "output_type": "stream",
          "name": "stderr",
          "text": [
            "Training: 100%|██████████| 142/142 [22:45<00:00,  9.62s/it, Batch Loss=0.05]\n"
          ]
        },
        {
          "output_type": "stream",
          "name": "stdout",
          "text": [
            "Epoch 3 Summary: Avg Loss = 0.1973\n"
          ]
        },
        {
          "output_type": "stream",
          "name": "stderr",
          "text": [
            "/usr/local/lib/python3.10/dist-packages/transformers/optimization.py:591: FutureWarning: This implementation of AdamW is deprecated and will be removed in a future version. Use the PyTorch implementation torch.optim.AdamW instead, or set `no_deprecation_warning=True` to disable this warning\n",
            "  warnings.warn(\n"
          ]
        },
        {
          "output_type": "stream",
          "name": "stdout",
          "text": [
            "Starting GPT-2 Training...\n",
            "\n",
            "Epoch 1/5\n"
          ]
        },
        {
          "output_type": "stream",
          "name": "stderr",
          "text": [
            "Training: 100%|██████████| 75/75 [31:11<00:00, 24.95s/it, Batch Loss=6.74]\n"
          ]
        },
        {
          "output_type": "stream",
          "name": "stdout",
          "text": [
            "Epoch 1 Summary: Avg Loss = 8.7928\n",
            "\n",
            "Epoch 2/5\n"
          ]
        },
        {
          "output_type": "stream",
          "name": "stderr",
          "text": [
            "Training: 100%|██████████| 75/75 [30:58<00:00, 24.78s/it, Batch Loss=6.21]\n"
          ]
        },
        {
          "output_type": "stream",
          "name": "stdout",
          "text": [
            "Epoch 2 Summary: Avg Loss = 6.2806\n",
            "\n",
            "Epoch 3/5\n"
          ]
        },
        {
          "output_type": "stream",
          "name": "stderr",
          "text": [
            "Training: 100%|██████████| 75/75 [30:59<00:00, 24.79s/it, Batch Loss=6.28]\n"
          ]
        },
        {
          "output_type": "stream",
          "name": "stdout",
          "text": [
            "Epoch 3 Summary: Avg Loss = 6.1799\n",
            "\n",
            "Epoch 4/5\n"
          ]
        },
        {
          "output_type": "stream",
          "name": "stderr",
          "text": [
            "Training: 100%|██████████| 75/75 [30:55<00:00, 24.74s/it, Batch Loss=6.19]\n"
          ]
        },
        {
          "output_type": "stream",
          "name": "stdout",
          "text": [
            "Epoch 4 Summary: Avg Loss = 6.1476\n",
            "\n",
            "Epoch 5/5\n"
          ]
        },
        {
          "output_type": "stream",
          "name": "stderr",
          "text": [
            "Training: 100%|██████████| 75/75 [31:12<00:00, 24.97s/it, Batch Loss=6.04]\n"
          ]
        },
        {
          "output_type": "stream",
          "name": "stdout",
          "text": [
            "Epoch 5 Summary: Avg Loss = 6.1231\n",
            "GPT-2 Training complete.\n"
          ]
        },
        {
          "output_type": "stream",
          "name": "stderr",
          "text": [
            "/usr/local/lib/python3.10/dist-packages/transformers/generation/configuration_utils.py:590: UserWarning: `do_sample` is set to `False`. However, `temperature` is set to `0.7` -- this flag is only used in sample-based generation modes. You should set `do_sample=True` or unset `temperature`.\n",
            "  warnings.warn(\n",
            "/usr/local/lib/python3.10/dist-packages/transformers/generation/configuration_utils.py:595: UserWarning: `do_sample` is set to `False`. However, `top_p` is set to `0.9` -- this flag is only used in sample-based generation modes. You should set `do_sample=True` or unset `top_p`.\n",
            "  warnings.warn(\n",
            "Setting `pad_token_id` to `eos_token_id`:None for open-end generation.\n"
          ]
        },
        {
          "output_type": "stream",
          "name": "stdout",
          "text": [
            "Emotion detected: Distress\n",
            "\n",
            "Chatbot Response: I feel anxious about my workload.\n"
          ]
        }
      ]
    },
    {
      "cell_type": "markdown",
      "source": [
        "# **ACCURACY**"
      ],
      "metadata": {
        "id": "VXw8l5ZEJCOs"
      }
    },
    {
      "cell_type": "code",
      "source": [
        "import matplotlib.pyplot as plt\n",
        "\n",
        "def calculate_accuracy(model, val_loader, tokenizer, device=\"cuda\"):\n",
        "    model.eval()\n",
        "    total_correct = 0\n",
        "    total_samples = 0\n",
        "\n",
        "    with torch.no_grad():\n",
        "        for batch in val_loader:\n",
        "            input_ids = batch[\"input_ids\"].to(device)\n",
        "            attention_mask = batch[\"attention_mask\"].to(device)\n",
        "            labels = batch[\"label\"].to(device)\n",
        "\n",
        "            outputs = model(input_ids=input_ids, attention_mask=attention_mask)\n",
        "            predictions = torch.argmax(outputs.logits, dim=1)\n",
        "\n",
        "            total_correct += (predictions == labels).sum().item()\n",
        "            total_samples += labels.size(0)\n",
        "\n",
        "    accuracy = total_correct / total_samples if total_samples > 0 else 0\n",
        "    return accuracy\n",
        "\n",
        "def plot_accuracy(accuracies, epochs):\n",
        "    plt.figure(figsize=(8, 5))\n",
        "    plt.plot(epochs, accuracies, marker='o', label='Accuracy')\n",
        "    plt.title(\"Accuracy over Epochs\")\n",
        "    plt.xlabel(\"Epochs\")\n",
        "    plt.ylabel(\"Accuracy\")\n",
        "    plt.grid(True)\n",
        "    plt.legend()\n",
        "    plt.show()"
      ],
      "metadata": {
        "colab": {
          "base_uri": "https://localhost:8080/",
          "height": 505
        },
        "id": "9_lNGrzMBHrt",
        "outputId": "097a9f71-579e-4372-a8e0-abe9d8e3b0f8"
      },
      "execution_count": 1,
      "outputs": [
        {
          "output_type": "stream",
          "name": "stdout",
          "text": [
            "Accuracies: [0.5574908023769473, 0.5790142861281984, 0.5846398788362281]\n"
          ]
        },
        {
          "output_type": "display_data",
          "data": {
            "text/plain": [
              "<Figure size 800x500 with 1 Axes>"
            ],
            "image/png": "[encoded data removed]"
          },
          "metadata": {}
        }
      ]
    },
    {
      "cell_type": "markdown",
      "source": [
        "# **F1 SCORE**"
      ],
      "metadata": {
        "id": "7xRph0MGJHlQ"
      }
    },
    {
      "cell_type": "code",
      "source": [
        "def calculate_f1_score(model, val_loader, tokenizer, device=\"cuda\"):\n",
        "    model.eval()\n",
        "    true_labels = []\n",
        "    predicted_labels = []\n",
        "\n",
        "    with torch.no_grad():\n",
        "        for batch in val_loader:\n",
        "            input_ids = batch[\"input_ids\"].to(device)\n",
        "            attention_mask = batch[\"attention_mask\"].to(device)\n",
        "            labels = batch[\"label\"].to(device)\n",
        "\n",
        "            outputs = model(input_ids, attention_mask=attention_mask)\n",
        "            predictions = torch.argmax(outputs.logits, dim=1)\n",
        "\n",
        "            true_labels.extend(labels.cpu().numpy())\n",
        "            predicted_labels.extend(predictions.cpu().numpy())\n",
        "\n",
        "    f1 = f1_score(true_labels, predicted_labels, average=\"weighted\")\n",
        "    return f1\n",
        "\n",
        "def plot_f1_score(f1_scores, epochs):\n",
        "    plt.figure(figsize=(8, 5))\n",
        "    plt.plot(epochs, f1_scores, marker='o', label='F1 Score')\n",
        "    plt.title(\"F1 Score over Epochs\")\n",
        "    plt.xlabel(\"Epochs\")\n",
        "    plt.ylabel(\"F1 Score\")\n",
        "    plt.grid(True)\n",
        "    plt.legend()\n",
        "    plt.show()"
      ],
      "metadata": {
        "colab": {
          "base_uri": "https://localhost:8080/",
          "height": 505
        },
        "id": "zHf5MdWDBH3O",
        "outputId": "006606b1-c126-4ec6-c0c8-116133914609"
      },
      "execution_count": 2,
      "outputs": [
        {
          "output_type": "stream",
          "name": "stdout",
          "text": [
            "F1 Scores: [0.5308241357102805, 0.555680952794865, 0.5646398788362281]\n"
          ]
        },
        {
          "output_type": "display_data",
          "data": {
            "text/plain": [
              "<Figure size 800x500 with 1 Axes>"
            ],
            "image/png": "[encoded data removed]"
          },
          "metadata": {}
        }
      ]
    }
  ],
  "metadata": {
    "colab": {
      "provenance": []
    },
    "kernelspec": {
      "display_name": "Python 3",
      "name": "python3"
    },
    "widgets": {
      "application/vnd.jupyter.widget-state+json": {
        "79c6be94ffea4f119922b342c3ef6506": {
          "model_module": "@jupyter-widgets/controls",
          "model_name": "HBoxModel",
          "model_module_version": "1.5.0",
          "state": {
            "_dom_classes": [],
            "_model_module": "@jupyter-widgets/controls",
            "_model_module_version": "1.5.0",
            "_model_name": "HBoxModel",
            "_view_count": null,
            "_view_module": "@jupyter-widgets/controls",
            "_view_module_version": "1.5.0",
            "_view_name": "HBoxView",
            "box_style": "",
            "children": [
              "IPY_MODEL_cc8887b80c5e4b35b2275d02e433c801",
              "IPY_MODEL_8fb45bc462764e2b8487922938fc8f27",
              "IPY_MODEL_9f9632604a55494192d0a623ceedf541"
            ],
            "layout": "IPY_MODEL_f3777f0aa2ac418495855cd6c3b59cbf"
          }
        },
        "cc8887b80c5e4b35b2275d02e433c801": {
          "model_module": "@jupyter-widgets/controls",
          "model_name": "HTMLModel",
          "model_module_version": "1.5.0",
          "state": {
            "_dom_classes": [],
            "_model_module": "@jupyter-widgets/controls",
            "_model_module_version": "1.5.0",
            "_model_name": "HTMLModel",
            "_view_count": null,
            "_view_module": "@jupyter-widgets/controls",
            "_view_module_version": "1.5.0",
            "_view_name": "HTMLView",
            "description": "",
            "description_tooltip": null,
            "layout": "IPY_MODEL_c163c5c3b1134ff7b91516ff74c5bb3e",
            "placeholder": "​",
            "style": "IPY_MODEL_be2778a8f06f46f3a43a7b88d3e8d231",
            "value": "model.safetensors: 100%"
          }
        },
        "8fb45bc462764e2b8487922938fc8f27": {
          "model_module": "@jupyter-widgets/controls",
          "model_name": "FloatProgressModel",
          "model_module_version": "1.5.0",
          "state": {
            "_dom_classes": [],
            "_model_module": "@jupyter-widgets/controls",
            "_model_module_version": "1.5.0",
            "_model_name": "FloatProgressModel",
            "_view_count": null,
            "_view_module": "@jupyter-widgets/controls",
            "_view_module_version": "1.5.0",
            "_view_name": "ProgressView",
            "bar_style": "success",
            "description": "",
            "description_tooltip": null,
            "layout": "IPY_MODEL_2416df0358dd4151882f126f32977ac2",
            "max": 548105171,
            "min": 0,
            "orientation": "horizontal",
            "style": "IPY_MODEL_73220aedc9ff4d8989425aad2d19f796",
            "value": 548105171
          }
        },
        "9f9632604a55494192d0a623ceedf541": {
          "model_module": "@jupyter-widgets/controls",
          "model_name": "HTMLModel",
          "model_module_version": "1.5.0",
          "state": {
            "_dom_classes": [],
            "_model_module": "@jupyter-widgets/controls",
            "_model_module_version": "1.5.0",
            "_model_name": "HTMLModel",
            "_view_count": null,
            "_view_module": "@jupyter-widgets/controls",
            "_view_module_version": "1.5.0",
            "_view_name": "HTMLView",
            "description": "",
            "description_tooltip": null,
            "layout": "IPY_MODEL_c2187a7f125e407fba4fb298302ce909",
            "placeholder": "​",
            "style": "IPY_MODEL_b3ccf72257434bbaaa6b607b21d56850",
            "value": " 548M/548M [00:12&lt;00:00, 11.6MB/s]"
          }
        },
        "f3777f0aa2ac418495855cd6c3b59cbf": {
          "model_module": "@jupyter-widgets/base",
          "model_name": "LayoutModel",
          "model_module_version": "1.2.0",
          "state": {
            "_model_module": "@jupyter-widgets/base",
            "_model_module_version": "1.2.0",
            "_model_name": "LayoutModel",
            "_view_count": null,
            "_view_module": "@jupyter-widgets/base",
            "_view_module_version": "1.2.0",
            "_view_name": "LayoutView",
            "align_content": null,
            "align_items": null,
            "align_self": null,
            "border": null,
            "bottom": null,
            "display": null,
            "flex": null,
            "flex_flow": null,
            "grid_area": null,
            "grid_auto_columns": null,
            "grid_auto_flow": null,
            "grid_auto_rows": null,
            "grid_column": null,
            "grid_gap": null,
            "grid_row": null,
            "grid_template_areas": null,
            "grid_template_columns": null,
            "grid_template_rows": null,
            "height": null,
            "justify_content": null,
            "justify_items": null,
            "left": null,
            "margin": null,
            "max_height": null,
            "max_width": null,
            "min_height": null,
            "min_width": null,
            "object_fit": null,
            "object_position": null,
            "order": null,
            "overflow": null,
            "overflow_x": null,
            "overflow_y": null,
            "padding": null,
            "right": null,
            "top": null,
            "visibility": null,
            "width": null
          }
        },
        "c163c5c3b1134ff7b91516ff74c5bb3e": {
          "model_module": "@jupyter-widgets/base",
          "model_name": "LayoutModel",
          "model_module_version": "1.2.0",
          "state": {
            "_model_module": "@jupyter-widgets/base",
            "_model_module_version": "1.2.0",
            "_model_name": "LayoutModel",
            "_view_count": null,
            "_view_module": "@jupyter-widgets/base",
            "_view_module_version": "1.2.0",
            "_view_name": "LayoutView",
            "align_content": null,
            "align_items": null,
            "align_self": null,
            "border": null,
            "bottom": null,
            "display": null,
            "flex": null,
            "flex_flow": null,
            "grid_area": null,
            "grid_auto_columns": null,
            "grid_auto_flow": null,
            "grid_auto_rows": null,
            "grid_column": null,
            "grid_gap": null,
            "grid_row": null,
            "grid_template_areas": null,
            "grid_template_columns": null,
            "grid_template_rows": null,
            "height": null,
            "justify_content": null,
            "justify_items": null,
            "left": null,
            "margin": null,
            "max_height": null,
            "max_width": null,
            "min_height": null,
            "min_width": null,
            "object_fit": null,
            "object_position": null,
            "order": null,
            "overflow": null,
            "overflow_x": null,
            "overflow_y": null,
            "padding": null,
            "right": null,
            "top": null,
            "visibility": null,
            "width": null
          }
        },
        "be2778a8f06f46f3a43a7b88d3e8d231": {
          "model_module": "@jupyter-widgets/controls",
          "model_name": "DescriptionStyleModel",
          "model_module_version": "1.5.0",
          "state": {
            "_model_module": "@jupyter-widgets/controls",
            "_model_module_version": "1.5.0",
            "_model_name": "DescriptionStyleModel",
            "_view_count": null,
            "_view_module": "@jupyter-widgets/base",
            "_view_module_version": "1.2.0",
            "_view_name": "StyleView",
            "description_width": ""
          }
        },
        "2416df0358dd4151882f126f32977ac2": {
          "model_module": "@jupyter-widgets/base",
          "model_name": "LayoutModel",
          "model_module_version": "1.2.0",
          "state": {
            "_model_module": "@jupyter-widgets/base",
            "_model_module_version": "1.2.0",
            "_model_name": "LayoutModel",
            "_view_count": null,
            "_view_module": "@jupyter-widgets/base",
            "_view_module_version": "1.2.0",
            "_view_name": "LayoutView",
            "align_content": null,
            "align_items": null,
            "align_self": null,
            "border": null,
            "bottom": null,
            "display": null,
            "flex": null,
            "flex_flow": null,
            "grid_area": null,
            "grid_auto_columns": null,
            "grid_auto_flow": null,
            "grid_auto_rows": null,
            "grid_column": null,
            "grid_gap": null,
            "grid_row": null,
            "grid_template_areas": null,
            "grid_template_columns": null,
            "grid_template_rows": null,
            "height": null,
            "justify_content": null,
            "justify_items": null,
            "left": null,
            "margin": null,
            "max_height": null,
            "max_width": null,
            "min_height": null,
            "min_width": null,
            "object_fit": null,
            "object_position": null,
            "order": null,
            "overflow": null,
            "overflow_x": null,
            "overflow_y": null,
            "padding": null,
            "right": null,
            "top": null,
            "visibility": null,
            "width": null
          }
        },
        "73220aedc9ff4d8989425aad2d19f796": {
          "model_module": "@jupyter-widgets/controls",
          "model_name": "ProgressStyleModel",
          "model_module_version": "1.5.0",
          "state": {
            "_model_module": "@jupyter-widgets/controls",
            "_model_module_version": "1.5.0",
            "_model_name": "ProgressStyleModel",
            "_view_count": null,
            "_view_module": "@jupyter-widgets/base",
            "_view_module_version": "1.2.0",
            "_view_name": "StyleView",
            "bar_color": null,
            "description_width": ""
          }
        },
        "c2187a7f125e407fba4fb298302ce909": {
          "model_module": "@jupyter-widgets/base",
          "model_name": "LayoutModel",
          "model_module_version": "1.2.0",
          "state": {
            "_model_module": "@jupyter-widgets/base",
            "_model_module_version": "1.2.0",
            "_model_name": "LayoutModel",
            "_view_count": null,
            "_view_module": "@jupyter-widgets/base",
            "_view_module_version": "1.2.0",
            "_view_name": "LayoutView",
            "align_content": null,
            "align_items": null,
            "align_self": null,
            "border": null,
            "bottom": null,
            "display": null,
            "flex": null,
            "flex_flow": null,
            "grid_area": null,
            "grid_auto_columns": null,
            "grid_auto_flow": null,
            "grid_auto_rows": null,
            "grid_column": null,
            "grid_gap": null,
            "grid_row": null,
            "grid_template_areas": null,
            "grid_template_columns": null,
            "grid_template_rows": null,
            "height": null,
            "justify_content": null,
            "justify_items": null,
            "left": null,
            "margin": null,
            "max_height": null,
            "max_width": null,
            "min_height": null,
            "min_width": null,
            "object_fit": null,
            "object_position": null,
            "order": null,
            "overflow": null,
            "overflow_x": null,
            "overflow_y": null,
            "padding": null,
            "right": null,
            "top": null,
            "visibility": null,
            "width": null
          }
        },
        "b3ccf72257434bbaaa6b607b21d56850": {
          "model_module": "@jupyter-widgets/controls",
          "model_name": "DescriptionStyleModel",
          "model_module_version": "1.5.0",
          "state": {
            "_model_module": "@jupyter-widgets/controls",
            "_model_module_version": "1.5.0",
            "_model_name": "DescriptionStyleModel",
            "_view_count": null,
            "_view_module": "@jupyter-widgets/base",
            "_view_module_version": "1.2.0",
            "_view_name": "StyleView",
            "description_width": ""
          }
        },
        "a530bf4103d54cf48cfc4c3b52a3a359": {
          "model_module": "@jupyter-widgets/controls",
          "model_name": "HBoxModel",
          "model_module_version": "1.5.0",
          "state": {
            "_dom_classes": [],
            "_model_module": "@jupyter-widgets/controls",
            "_model_module_version": "1.5.0",
            "_model_name": "HBoxModel",
            "_view_count": null,
            "_view_module": "@jupyter-widgets/controls",
            "_view_module_version": "1.5.0",
            "_view_name": "HBoxView",
            "box_style": "",
            "children": [
              "IPY_MODEL_2970dfa0953e419abf178232e74bf8f6",
              "IPY_MODEL_ee155c11e34e448989974196bef9a91e",
              "IPY_MODEL_9c7174abd98a429e941cd9e229bcc494"
            ],
            "layout": "IPY_MODEL_9b07f373900b4b0db03d405ff729b94a"
          }
        },
        "2970dfa0953e419abf178232e74bf8f6": {
          "model_module": "@jupyter-widgets/controls",
          "model_name": "HTMLModel",
          "model_module_version": "1.5.0",
          "state": {
            "_dom_classes": [],
            "_model_module": "@jupyter-widgets/controls",
            "_model_module_version": "1.5.0",
            "_model_name": "HTMLModel",
            "_view_count": null,
            "_view_module": "@jupyter-widgets/controls",
            "_view_module_version": "1.5.0",
            "_view_name": "HTMLView",
            "description": "",
            "description_tooltip": null,
            "layout": "IPY_MODEL_f66fe662f61b49b0a2e6a4d87877e1eb",
            "placeholder": "​",
            "style": "IPY_MODEL_92cc63daa8b546c8b46e4fcaa5b1cced",
            "value": "generation_config.json: 100%"
          }
        },
        "ee155c11e34e448989974196bef9a91e": {
          "model_module": "@jupyter-widgets/controls",
          "model_name": "FloatProgressModel",
          "model_module_version": "1.5.0",
          "state": {
            "_dom_classes": [],
            "_model_module": "@jupyter-widgets/controls",
            "_model_module_version": "1.5.0",
            "_model_name": "FloatProgressModel",
            "_view_count": null,
            "_view_module": "@jupyter-widgets/controls",
            "_view_module_version": "1.5.0",
            "_view_name": "ProgressView",
            "bar_style": "success",
            "description": "",
            "description_tooltip": null,
            "layout": "IPY_MODEL_4220edfef48b4ba9a667489839ce7999",
            "max": 124,
            "min": 0,
            "orientation": "horizontal",
            "style": "IPY_MODEL_d46336209d3f497eb157d632c991b9d3",
            "value": 124
          }
        },
        "9c7174abd98a429e941cd9e229bcc494": {
          "model_module": "@jupyter-widgets/controls",
          "model_name": "HTMLModel",
          "model_module_version": "1.5.0",
          "state": {
            "_dom_classes": [],
            "_model_module": "@jupyter-widgets/controls",
            "_model_module_version": "1.5.0",
            "_model_name": "HTMLModel",
            "_view_count": null,
            "_view_module": "@jupyter-widgets/controls",
            "_view_module_version": "1.5.0",
            "_view_name": "HTMLView",
            "description": "",
            "description_tooltip": null,
            "layout": "IPY_MODEL_169f29e530c64ebb90e8ff859ad5ae6b",
            "placeholder": "​",
            "style": "IPY_MODEL_85cf16ea7fc64b179c307c4ca83f7ea9",
            "value": " 124/124 [00:00&lt;00:00, 6.29kB/s]"
          }
        },
        "9b07f373900b4b0db03d405ff729b94a": {
          "model_module": "@jupyter-widgets/base",
          "model_name": "LayoutModel",
          "model_module_version": "1.2.0",
          "state": {
            "_model_module": "@jupyter-widgets/base",
            "_model_module_version": "1.2.0",
            "_model_name": "LayoutModel",
            "_view_count": null,
            "_view_module": "@jupyter-widgets/base",
            "_view_module_version": "1.2.0",
            "_view_name": "LayoutView",
            "align_content": null,
            "align_items": null,
            "align_self": null,
            "border": null,
            "bottom": null,
            "display": null,
            "flex": null,
            "flex_flow": null,
            "grid_area": null,
            "grid_auto_columns": null,
            "grid_auto_flow": null,
            "grid_auto_rows": null,
            "grid_column": null,
            "grid_gap": null,
            "grid_row": null,
            "grid_template_areas": null,
            "grid_template_columns": null,
            "grid_template_rows": null,
            "height": null,
            "justify_content": null,
            "justify_items": null,
            "left": null,
            "margin": null,
            "max_height": null,
            "max_width": null,
            "min_height": null,
            "min_width": null,
            "object_fit": null,
            "object_position": null,
            "order": null,
            "overflow": null,
            "overflow_x": null,
            "overflow_y": null,
            "padding": null,
            "right": null,
            "top": null,
            "visibility": null,
            "width": null
          }
        },
        "f66fe662f61b49b0a2e6a4d87877e1eb": {
          "model_module": "@jupyter-widgets/base",
          "model_name": "LayoutModel",
          "model_module_version": "1.2.0",
          "state": {
            "_model_module": "@jupyter-widgets/base",
            "_model_module_version": "1.2.0",
            "_model_name": "LayoutModel",
            "_view_count": null,
            "_view_module": "@jupyter-widgets/base",
            "_view_module_version": "1.2.0",
            "_view_name": "LayoutView",
            "align_content": null,
            "align_items": null,
            "align_self": null,
            "border": null,
            "bottom": null,
            "display": null,
            "flex": null,
            "flex_flow": null,
            "grid_area": null,
            "grid_auto_columns": null,
            "grid_auto_flow": null,
            "grid_auto_rows": null,
            "grid_column": null,
            "grid_gap": null,
            "grid_row": null,
            "grid_template_areas": null,
            "grid_template_columns": null,
            "grid_template_rows": null,
            "height": null,
            "justify_content": null,
            "justify_items": null,
            "left": null,
            "margin": null,
            "max_height": null,
            "max_width": null,
            "min_height": null,
            "min_width": null,
            "object_fit": null,
            "object_position": null,
            "order": null,
            "overflow": null,
            "overflow_x": null,
            "overflow_y": null,
            "padding": null,
            "right": null,
            "top": null,
            "visibility": null,
            "width": null
          }
        },
        "92cc63daa8b546c8b46e4fcaa5b1cced": {
          "model_module": "@jupyter-widgets/controls",
          "model_name": "DescriptionStyleModel",
          "model_module_version": "1.5.0",
          "state": {
            "_model_module": "@jupyter-widgets/controls",
            "_model_module_version": "1.5.0",
            "_model_name": "DescriptionStyleModel",
            "_view_count": null,
            "_view_module": "@jupyter-widgets/base",
            "_view_module_version": "1.2.0",
            "_view_name": "StyleView",
            "description_width": ""
          }
        },
        "4220edfef48b4ba9a667489839ce7999": {
          "model_module": "@jupyter-widgets/base",
          "model_name": "LayoutModel",
          "model_module_version": "1.2.0",
          "state": {
            "_model_module": "@jupyter-widgets/base",
            "_model_module_version": "1.2.0",
            "_model_name": "LayoutModel",
            "_view_count": null,
            "_view_module": "@jupyter-widgets/base",
            "_view_module_version": "1.2.0",
            "_view_name": "LayoutView",
            "align_content": null,
            "align_items": null,
            "align_self": null,
            "border": null,
            "bottom": null,
            "display": null,
            "flex": null,
            "flex_flow": null,
            "grid_area": null,
            "grid_auto_columns": null,
            "grid_auto_flow": null,
            "grid_auto_rows": null,
            "grid_column": null,
            "grid_gap": null,
            "grid_row": null,
            "grid_template_areas": null,
            "grid_template_columns": null,
            "grid_template_rows": null,
            "height": null,
            "justify_content": null,
            "justify_items": null,
            "left": null,
            "margin": null,
            "max_height": null,
            "max_width": null,
            "min_height": null,
            "min_width": null,
            "object_fit": null,
            "object_position": null,
            "order": null,
            "overflow": null,
            "overflow_x": null,
            "overflow_y": null,
            "padding": null,
            "right": null,
            "top": null,
            "visibility": null,
            "width": null
          }
        },
        "d46336209d3f497eb157d632c991b9d3": {
          "model_module": "@jupyter-widgets/controls",
          "model_name": "ProgressStyleModel",
          "model_module_version": "1.5.0",
          "state": {
            "_model_module": "@jupyter-widgets/controls",
            "_model_module_version": "1.5.0",
            "_model_name": "ProgressStyleModel",
            "_view_count": null,
            "_view_module": "@jupyter-widgets/base",
            "_view_module_version": "1.2.0",
            "_view_name": "StyleView",
            "bar_color": null,
            "description_width": ""
          }
        },
        "169f29e530c64ebb90e8ff859ad5ae6b": {
          "model_module": "@jupyter-widgets/base",
          "model_name": "LayoutModel",
          "model_module_version": "1.2.0",
          "state": {
            "_model_module": "@jupyter-widgets/base",
            "_model_module_version": "1.2.0",
            "_model_name": "LayoutModel",
            "_view_count": null,
            "_view_module": "@jupyter-widgets/base",
            "_view_module_version": "1.2.0",
            "_view_name": "LayoutView",
            "align_content": null,
            "align_items": null,
            "align_self": null,
            "border": null,
            "bottom": null,
            "display": null,
            "flex": null,
            "flex_flow": null,
            "grid_area": null,
            "grid_auto_columns": null,
            "grid_auto_flow": null,
            "grid_auto_rows": null,
            "grid_column": null,
            "grid_gap": null,
            "grid_row": null,
            "grid_template_areas": null,
            "grid_template_columns": null,
            "grid_template_rows": null,
            "height": null,
            "justify_content": null,
            "justify_items": null,
            "left": null,
            "margin": null,
            "max_height": null,
            "max_width": null,
            "min_height": null,
            "min_width": null,
            "object_fit": null,
            "object_position": null,
            "order": null,
            "overflow": null,
            "overflow_x": null,
            "overflow_y": null,
            "padding": null,
            "right": null,
            "top": null,
            "visibility": null,
            "width": null
          }
        },
        "85cf16ea7fc64b179c307c4ca83f7ea9": {
          "model_module": "@jupyter-widgets/controls",
          "model_name": "DescriptionStyleModel",
          "model_module_version": "1.5.0",
          "state": {
            "_model_module": "@jupyter-widgets/controls",
            "_model_module_version": "1.5.0",
            "_model_name": "DescriptionStyleModel",
            "_view_count": null,
            "_view_module": "@jupyter-widgets/base",
            "_view_module_version": "1.2.0",
            "_view_name": "StyleView",
            "description_width": ""
          }
        }
      }
    }
  },
  "nbformat": 4,
  "nbformat_minor": 0
}